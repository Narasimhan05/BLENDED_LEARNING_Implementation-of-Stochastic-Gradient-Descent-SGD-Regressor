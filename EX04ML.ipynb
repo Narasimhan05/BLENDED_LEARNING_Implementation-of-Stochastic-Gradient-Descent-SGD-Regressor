{
  "nbformat": 4,
  "nbformat_minor": 0,
  "metadata": {
    "colab": {
      "provenance": []
    },
    "kernelspec": {
      "name": "python3",
      "display_name": "Python 3"
    },
    "language_info": {
      "name": "python"
    }
  },
  "cells": [
    {
      "cell_type": "code",
      "source": [
        "print(\"Name : NARASIMHAN S\")\n",
        "print(\"Reg.No : 212223230133\")"
      ],
      "metadata": {
        "colab": {
          "base_uri": "https://localhost:8080/"
        },
        "id": "2DhmDsMOBQSf",
        "outputId": "7546f995-cd3f-4429-f5ae-c809bee131eb"
      },
      "execution_count": 15,
      "outputs": [
        {
          "output_type": "stream",
          "name": "stdout",
          "text": [
            "Name : NARASIMHAN S\n",
            "Reg.No : 212223230133\n"
          ]
        }
      ]
    },
    {
      "cell_type": "code",
      "execution_count": 2,
      "metadata": {
        "id": "o6cSs9eu-5h4"
      },
      "outputs": [],
      "source": [
        "import pandas as pd\n",
        "import numpy as np\n",
        "import matplotlib.pyplot as plt\n",
        "from sklearn.model_selection import train_test_split\n",
        "from sklearn.linear_model import SGDRegressor\n",
        "from sklearn.metrics import mean_squared_error, r2_score\n",
        "from sklearn.preprocessing import StandardScaler"
      ]
    },
    {
      "cell_type": "code",
      "source": [
        "data = pd.read_csv(\"CarPrice_Assignment.csv\")\n",
        "print(data.head())\n",
        "print(data.info())"
      ],
      "metadata": {
        "colab": {
          "base_uri": "https://localhost:8080/"
        },
        "id": "BWAvQ-DxAZft",
        "outputId": "31e33092-5783-4cf8-c2b6-93d74d441da2"
      },
      "execution_count": 3,
      "outputs": [
        {
          "output_type": "stream",
          "name": "stdout",
          "text": [
            "   car_ID  symboling                   CarName fueltype aspiration doornumber  \\\n",
            "0       1          3        alfa-romero giulia      gas        std        two   \n",
            "1       2          3       alfa-romero stelvio      gas        std        two   \n",
            "2       3          1  alfa-romero Quadrifoglio      gas        std        two   \n",
            "3       4          2               audi 100 ls      gas        std       four   \n",
            "4       5          2                audi 100ls      gas        std       four   \n",
            "\n",
            "       carbody drivewheel enginelocation  wheelbase  ...  enginesize  \\\n",
            "0  convertible        rwd          front       88.6  ...         130   \n",
            "1  convertible        rwd          front       88.6  ...         130   \n",
            "2    hatchback        rwd          front       94.5  ...         152   \n",
            "3        sedan        fwd          front       99.8  ...         109   \n",
            "4        sedan        4wd          front       99.4  ...         136   \n",
            "\n",
            "   fuelsystem  boreratio  stroke compressionratio horsepower  peakrpm citympg  \\\n",
            "0        mpfi       3.47    2.68              9.0        111     5000      21   \n",
            "1        mpfi       3.47    2.68              9.0        111     5000      21   \n",
            "2        mpfi       2.68    3.47              9.0        154     5000      19   \n",
            "3        mpfi       3.19    3.40             10.0        102     5500      24   \n",
            "4        mpfi       3.19    3.40              8.0        115     5500      18   \n",
            "\n",
            "   highwaympg    price  \n",
            "0          27  13495.0  \n",
            "1          27  16500.0  \n",
            "2          26  16500.0  \n",
            "3          30  13950.0  \n",
            "4          22  17450.0  \n",
            "\n",
            "[5 rows x 26 columns]\n",
            "<class 'pandas.core.frame.DataFrame'>\n",
            "RangeIndex: 205 entries, 0 to 204\n",
            "Data columns (total 26 columns):\n",
            " #   Column            Non-Null Count  Dtype  \n",
            "---  ------            --------------  -----  \n",
            " 0   car_ID            205 non-null    int64  \n",
            " 1   symboling         205 non-null    int64  \n",
            " 2   CarName           205 non-null    object \n",
            " 3   fueltype          205 non-null    object \n",
            " 4   aspiration        205 non-null    object \n",
            " 5   doornumber        205 non-null    object \n",
            " 6   carbody           205 non-null    object \n",
            " 7   drivewheel        205 non-null    object \n",
            " 8   enginelocation    205 non-null    object \n",
            " 9   wheelbase         205 non-null    float64\n",
            " 10  carlength         205 non-null    float64\n",
            " 11  carwidth          205 non-null    float64\n",
            " 12  carheight         205 non-null    float64\n",
            " 13  curbweight        205 non-null    int64  \n",
            " 14  enginetype        205 non-null    object \n",
            " 15  cylindernumber    205 non-null    object \n",
            " 16  enginesize        205 non-null    int64  \n",
            " 17  fuelsystem        205 non-null    object \n",
            " 18  boreratio         205 non-null    float64\n",
            " 19  stroke            205 non-null    float64\n",
            " 20  compressionratio  205 non-null    float64\n",
            " 21  horsepower        205 non-null    int64  \n",
            " 22  peakrpm           205 non-null    int64  \n",
            " 23  citympg           205 non-null    int64  \n",
            " 24  highwaympg        205 non-null    int64  \n",
            " 25  price             205 non-null    float64\n",
            "dtypes: float64(8), int64(8), object(10)\n",
            "memory usage: 41.8+ KB\n",
            "None\n"
          ]
        }
      ]
    },
    {
      "cell_type": "code",
      "source": [
        "# Data preprocessing\n",
        "# Dropping unnecessary columns and handling categorical variables\n",
        "data = data.drop(['CarName', 'car_ID'], axis=1)\n",
        "data = pd.get_dummies(data, drop_first=True)\n"
      ],
      "metadata": {
        "id": "8q7pSREDAeh1"
      },
      "execution_count": 4,
      "outputs": []
    },
    {
      "cell_type": "code",
      "source": [
        "# Splitting the data into features and target variable\n",
        "X = data.drop('price', axis=1)\n",
        "y = data['price']\n",
        "\n",
        "scaler = StandardScaler()\n"
      ],
      "metadata": {
        "id": "jcYRzlRkAihT"
      },
      "execution_count": 5,
      "outputs": []
    },
    {
      "cell_type": "code",
      "source": [
        "# Standardizing the data\n",
        "#scaler = StandardScaler()\n",
        "X = scaler.fit_transform(X)\n",
        "y = scaler.fit_transform(np.array(y).reshape(-1, 1)).flatten()"
      ],
      "metadata": {
        "id": "Isvl_TzWAmo7"
      },
      "execution_count": 6,
      "outputs": []
    },
    {
      "cell_type": "code",
      "source": [
        "# Splitting the dataset into training and testing sets\n",
        "X_train, X_test, y_train, y_test = train_test_split(X, y, test_size=0.2, random_state=42)"
      ],
      "metadata": {
        "id": "yNvc_G56Aow6"
      },
      "execution_count": 7,
      "outputs": []
    },
    {
      "cell_type": "code",
      "source": [
        "# Creating the SGD Regressor model\n",
        "sgd_model = SGDRegressor(max_iter=1000, tol=1e-3)"
      ],
      "metadata": {
        "id": "9_weE69ZAr_v"
      },
      "execution_count": 8,
      "outputs": []
    },
    {
      "cell_type": "code",
      "source": [
        "# Fitting the model on the training data\n",
        "sgd_model.fit(X_train, y_train)\n",
        "\n",
        "# Making predictions\n",
        "y_pred = sgd_model.predict(X_test)\n"
      ],
      "metadata": {
        "id": "V4BYSwDZAvFD"
      },
      "execution_count": 9,
      "outputs": []
    },
    {
      "cell_type": "code",
      "source": [
        "# Evaluating model performance\n",
        "mse = mean_squared_error(y_test, y_pred)\n",
        "r2 = r2_score(y_test, y_pred)"
      ],
      "metadata": {
        "id": "eEAxxYQjAxmz"
      },
      "execution_count": 10,
      "outputs": []
    },
    {
      "cell_type": "code",
      "source": [
        "print(\"=\"*50)\n",
        "print(\"Mean Squared Error:\", mse)\n",
        "print(\"R² Score:\", r2)\n",
        "# Print evaluation metrics\n",
        "print(\"Mean Squared Error:\", mse)\n",
        "print(\"R-squared Score:\", r2)\n",
        "print(\"=\"*50)"
      ],
      "metadata": {
        "colab": {
          "base_uri": "https://localhost:8080/"
        },
        "id": "XrYkzzbdAzu-",
        "outputId": "bbcd0b6d-9d7f-498d-8432-5c3ff761e142"
      },
      "execution_count": 11,
      "outputs": [
        {
          "output_type": "stream",
          "name": "stdout",
          "text": [
            "==================================================\n",
            "Mean Squared Error: 0.20787934477035774\n",
            "R² Score: 0.8327611431950506\n",
            "Mean Squared Error: 0.20787934477035774\n",
            "R-squared Score: 0.8327611431950506\n",
            "==================================================\n"
          ]
        }
      ]
    },
    {
      "cell_type": "code",
      "source": [
        "# Print model coefficients\n",
        "print(\"Model Coefficients:\")\n",
        "print(\"Coefficients:\", sgd_model.coef_)\n",
        "print(\"Intercept:\", sgd_model.intercept_)"
      ],
      "metadata": {
        "colab": {
          "base_uri": "https://localhost:8080/"
        },
        "id": "Isy_nmi5A2s-",
        "outputId": "ba487d67-3124-4278-bdc8-2227e6b0d571"
      },
      "execution_count": 12,
      "outputs": [
        {
          "output_type": "stream",
          "name": "stdout",
          "text": [
            "Model Coefficients:\n",
            "Coefficients: [ 0.04093284  0.11279563 -0.00677789  0.18787325  0.01985766  0.18716727\n",
            "  0.32281971 -0.03225756 -0.09257856 -0.00508124  0.10210912  0.04458044\n",
            " -0.03792277 -0.05163251 -0.02080265  0.02406695  0.0156584  -0.030637\n",
            " -0.10187683 -0.02542718 -0.09869858 -0.03030779  0.0636246   0.21436263\n",
            "  0.00905712 -0.10325651  0.08237133 -0.01464674 -0.0065611   0.01274495\n",
            " -0.05416834 -0.15648787 -0.09008698  0.00095885 -0.03582349  0.01274495\n",
            " -0.00357546 -0.01828557  0.02080265 -0.01949238 -0.03862132 -0.04446007\n",
            " -0.01716151]\n",
            "Intercept: [-0.0137011]\n"
          ]
        }
      ]
    },
    {
      "cell_type": "code",
      "source": [
        "# Visualizing actual vs predicted prices\n",
        "plt.scatter(y_test, y_pred)\n",
        "plt.xlabel(\"Actual Prices\")\n",
        "plt.ylabel(\"Predicted Prices\")\n",
        "plt.title(\"Actual vs Predicted Prices using SGD Regressor\")\n",
        "plt.plot([min(y_test), max(y_test)], [min(y_test), max(y_test)], color='red')  # Perfect prediction line\n",
        "plt.show()"
      ],
      "metadata": {
        "colab": {
          "base_uri": "https://localhost:8080/",
          "height": 472
        },
        "id": "geg-sRsBA4tF",
        "outputId": "40b8dc1f-e396-4f87-9d00-84a4638aeff4"
      },
      "execution_count": 13,
      "outputs": [
        {
          "output_type": "display_data",
          "data": {
            "text/plain": [
              "<Figure size 640x480 with 1 Axes>"
            ],
            "image/png": "[encoded data removed]"
          },
          "metadata": {}
        }
      ]
    },
    {
      "cell_type": "code",
      "source": [
        "print(\"Name : NARASIMHAN S\")\n",
        "print(\"Reg.No : 212223230133\")"
      ],
      "metadata": {
        "colab": {
          "base_uri": "https://localhost:8080/"
        },
        "id": "mIUJhiRYA6oL",
        "outputId": "68a91399-12cd-4fa2-de50-e8ea7d3dd6e7"
      },
      "execution_count": 17,
      "outputs": [
        {
          "output_type": "stream",
          "name": "stdout",
          "text": [
            "Name : NARASIMHAN S\n",
            "Reg.No : 212223230133\n"
          ]
        }
      ]
    },
    {
      "cell_type": "code",
      "source": [],
      "metadata": {
        "id": "mJpwdAlSB0AJ"
      },
      "execution_count": null,
      "outputs": []
    }
  ]
}